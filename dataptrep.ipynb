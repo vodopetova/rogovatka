{
 "cells": [
  {
   "cell_type": "code",
   "execution_count": 2,
   "metadata": {},
   "outputs": [],
   "source": [
    "import os\n",
    "import json "
   ]
  },
  {
   "cell_type": "code",
   "execution_count": 10,
   "metadata": {},
   "outputs": [],
   "source": [
    "manifesttrain = '/home/aslin/CODE/PythonProjects/vodopetova/train/manifest.jsonl'\n",
    "manifesttest = '/home/aslin/CODE/PythonProjects/vodopetova/test/crowd/manifest.jsonl'"
   ]
  },
  {
   "cell_type": "code",
   "execution_count": 4,
   "metadata": {},
   "outputs": [],
   "source": [
    "def writefiles(manifest, root, number, cat):\n",
    "    data = []\n",
    "    with open(manifest) as f:\n",
    "        for line in f:\n",
    "            data.append(json.loads(line))\n",
    "    if cat is None:\n",
    "        cat = root\n",
    "    with open(os.path.join(cat, 'audio_paths'), 'w') as paths, open(os.path.join(cat, 'text'), 'w') as texts:\n",
    "        if number is not None:\n",
    "            data = data[:number]\n",
    "        for elem in data:\n",
    "            if elem['text'].isspace():\n",
    "                continue\n",
    "            print(f\"{elem['id']} {os.path.join(root, elem['audio_filepath'])}\", file=paths)\n",
    "            print(f\"{elem['id']} {elem['text']}\", file=texts)"
   ]
  },
  {
   "cell_type": "code",
   "execution_count": 4,
   "metadata": {},
   "outputs": [],
   "source": [
    "writefiles(manifesttest, '/home/aslin/CODE/PythonProjects/vodopetova/test/crowd', 200, 'test')"
   ]
  },
  {
   "cell_type": "code",
   "execution_count": 13,
   "metadata": {},
   "outputs": [],
   "source": [
    "writefiles(manifesttrain, '/home/aslin/CODE/PythonProjects/vodopetova/train', 800, 'train')"
   ]
  },
  {
   "cell_type": "code",
   "execution_count": 15,
   "metadata": {},
   "outputs": [],
   "source": [
    "writefiles('/home/aslin/CODE/PythonProjects/vodopetova/validnew.jsonl', '/home/aslin/CODE/PythonProjects/vodopetova/valid_dialect', None, None)"
   ]
  },
  {
   "cell_type": "code",
   "execution_count": 8,
   "metadata": {},
   "outputs": [],
   "source": [
    "writefiles('/home/aslin/CODE/PythonProjects/vodopetova/validnew_lit.jsonl', '/home/aslin/CODE/PythonProjects/vodopetova/valid_lit', None, None)"
   ]
  },
  {
   "cell_type": "code",
   "execution_count": 7,
   "metadata": {},
   "outputs": [],
   "source": [
    "with open('valid_lit.jsonl') as inp, open('validnew_lit.jsonl', 'w') as out:\n",
    "    for line in inp:\n",
    "        l = line.split('#')[0].strip()\n",
    "        if not l.isspace() and l:\n",
    "            out.write(l + '\\n')"
   ]
  }
 ],
 "metadata": {
  "kernelspec": {
   "display_name": "base",
   "language": "python",
   "name": "python3"
  },
  "language_info": {
   "codemirror_mode": {
    "name": "ipython",
    "version": 3
   },
   "file_extension": ".py",
   "mimetype": "text/x-python",
   "name": "python",
   "nbconvert_exporter": "python",
   "pygments_lexer": "ipython3",
   "version": "3.9.18"
  }
 },
 "nbformat": 4,
 "nbformat_minor": 2
}
