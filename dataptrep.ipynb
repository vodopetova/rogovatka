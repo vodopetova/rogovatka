{
 "cells": [
  {
   "cell_type": "code",
   "execution_count": 11,
   "metadata": {},
   "outputs": [],
   "source": [
    "import os\n",
    "import json "
   ]
  },
  {
   "cell_type": "code",
   "execution_count": 12,
   "metadata": {},
   "outputs": [],
   "source": [
    "manifesttrain = '/home/aslin/CODE/PythonProjects/vodopetova/train/manifest.jsonl'\n",
    "manifesttest = '/home/aslin/CODE/PythonProjects/vodopetova/test/crowd/manifest.jsonl'"
   ]
  },
  {
   "cell_type": "code",
   "execution_count": 13,
   "metadata": {},
   "outputs": [],
   "source": [
    "def writefiles(manifest, root, number, cat):\n",
    "    data = []\n",
    "    with open(manifest) as f:\n",
    "        for line in f:\n",
    "            data.append(json.loads(line))\n",
    "    if cat is None:\n",
    "        cat = root\n",
    "    with open(os.path.join(cat, 'audio_paths'), 'w') as paths, open(os.path.join(cat, 'text'), 'w') as texts:\n",
    "        if number is not None:\n",
    "            data = data[:number]\n",
    "        for elem in data:\n",
    "            if elem['text'].isspace():\n",
    "                continue\n",
    "            print(f\"{elem['id']} {os.path.join(root, elem['audio_filepath'])}\", file=paths)\n",
    "            print(f\"{elem['id']} {elem['text']}\", file=texts)"
   ]
  },
  {
   "cell_type": "code",
   "execution_count": 4,
   "metadata": {},
   "outputs": [],
   "source": [
    "writefiles(manifesttest, '/home/aslin/CODE/PythonProjects/vodopetova/test/crowd', 200, 'test')"
   ]
  },
  {
   "cell_type": "code",
   "execution_count": 13,
   "metadata": {},
   "outputs": [],
   "source": [
    "writefiles(manifesttrain, '/home/aslin/CODE/PythonProjects/vodopetova/train', 800, 'train')"
   ]
  },
  {
   "cell_type": "code",
   "execution_count": 14,
   "metadata": {},
   "outputs": [],
   "source": [
    "writefiles('/home/aslin/CODE/PythonProjects/vodopetova/validnew.jsonl', '/home/aslin/CODE/PythonProjects/vodopetova/valid_dialect', None, None)"
   ]
  },
  {
   "cell_type": "code",
   "execution_count": 23,
   "metadata": {},
   "outputs": [],
   "source": [
    "writefiles('/home/aslin/CODE/PythonProjects/vodopetova/finetune.jsonl', '/home/aslin/CODE/PythonProjects/vodopetova/finetune', None, None)"
   ]
  },
  {
   "cell_type": "code",
   "execution_count": 10,
   "metadata": {},
   "outputs": [],
   "source": [
    "with open('finetune_com.jsonl') as inp, open('finetune.jsonl', 'w') as out:\n",
    "    for line in inp:\n",
    "        l = line.split('#')[0].strip()\n",
    "        if not l.isspace() and l:\n",
    "            out.write(l + '\\n')"
   ]
  },
  {
   "cell_type": "code",
   "execution_count": 10,
   "metadata": {},
   "outputs": [],
   "source": [
    "import os\n",
    "\n",
    "files = os.listdir('test_final')\n",
    "for file in files:\n",
    "    if file.endswith('channel_1.wav'):\n",
    "        os.rename('test_final/' + file, 'test_final/' + file[:-14])\n",
    "    # else:\n",
    "        # os.remove('/home/aslin/CODE/PythonProjects/vodopetova/test_final/' + file)"
   ]
  },
  {
   "cell_type": "code",
   "execution_count": 16,
   "metadata": {},
   "outputs": [],
   "source": [
    "# combine\n",
    "import os, shutil \n",
    "\n",
    "def combine(manifest_golos, manifest_dialect, numberdial, cat):\n",
    "    data_golos = []\n",
    "    with open(manifest_golos) as f:\n",
    "        for line in f:\n",
    "            data_golos.append(json.loads(line))\n",
    "    data_dialect = []\n",
    "    with open(manifest_dialect) as f:\n",
    "        for line in f:\n",
    "            data_dialect.append(json.loads(line))\n",
    "    if not os.path.exists(cat):\n",
    "        os.mkdir(cat)\n",
    "    with open(os.path.join(cat, 'audio_paths'), 'w') as paths, open(os.path.join(cat, 'text'), 'w') as texts:\n",
    "        data = data_golos[:800 - numberdial] + data_dialect[:numberdial]\n",
    "        for elem in data:\n",
    "            if elem['text'].isspace():\n",
    "                continue\n",
    "            if elem['audio_filepath'].startswith('crowd'):\n",
    "                elem['audio_filepath'] = '/home/aslin/CODE/PythonProjects/vodopetova/train/' + elem['audio_filepath']\n",
    "            else:\n",
    "                elem['audio_filepath'] = os.path.join('/home/aslin/CODE/PythonProjects/vodopetova/finetune', elem['audio_filepath'])\n",
    "            path = os.path.join(cat, elem['audio_filepath'].split('/')[-1])\n",
    "            shutil.copy(elem['audio_filepath'], path)\n",
    "            print(f\"{elem['id']} {os.path.join('/home/aslin/CODE/PythonProjects/vodopetova', path)}\", file=paths)\n",
    "            print(f\"{elem['id']} {elem['text']}\", file=texts)"
   ]
  },
  {
   "cell_type": "code",
   "execution_count": 5,
   "metadata": {},
   "outputs": [
    {
     "data": {
      "text/plain": [
       "'/home/aslin/CODE/PythonProjects/vodopetova/finetune600x200/1.wav'"
      ]
     },
     "execution_count": 5,
     "metadata": {},
     "output_type": "execute_result"
    }
   ],
   "source": [
    "os.path.join('/home/aslin/CODE/PythonProjects/vodopetova', 'finetune600x200', \"1.wav\")"
   ]
  },
  {
   "cell_type": "code",
   "execution_count": 21,
   "metadata": {},
   "outputs": [],
   "source": [
    "combine(manifesttrain, '/home/aslin/CODE/PythonProjects/vodopetova/finetune.jsonl', 600, 'finetune600x200')"
   ]
  },
  {
   "cell_type": "code",
   "execution_count": 22,
   "metadata": {},
   "outputs": [],
   "source": [
    "combine(manifesttrain, '/home/aslin/CODE/PythonProjects/vodopetova/finetune.jsonl', 200, 'finetune200x600')"
   ]
  }
 ],
 "metadata": {
  "kernelspec": {
   "display_name": "base",
   "language": "python",
   "name": "python3"
  },
  "language_info": {
   "codemirror_mode": {
    "name": "ipython",
    "version": 3
   },
   "file_extension": ".py",
   "mimetype": "text/x-python",
   "name": "python",
   "nbconvert_exporter": "python",
   "pygments_lexer": "ipython3",
   "version": "3.9.18"
  }
 },
 "nbformat": 4,
 "nbformat_minor": 2
}
